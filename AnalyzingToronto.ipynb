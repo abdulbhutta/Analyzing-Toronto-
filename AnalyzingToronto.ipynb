{
 "cells": [
  {
   "cell_type": "code",
   "execution_count": 177,
   "metadata": {},
   "outputs": [],
   "source": [
    "import json\n",
    "import requests\n",
    "import pandas as pd # module to convert an address into latitude and longitude values\n",
    "import folium\n",
    "from geopy.geocoders import Nominatim #Module for converting the address into latitude and longitude value\n",
    "from IPython.display import display\n",
    "from bs4 import BeautifulSoup #Helps us to get the HTML structure of the page\n",
    "\n",
    "\n"
   ]
  },
  {
   "cell_type": "code",
   "execution_count": 178,
   "metadata": {},
   "outputs": [
    {
     "name": "stdout",
     "output_type": "stream",
     "text": [
      "43.7049593 -79.3419739\n"
     ]
    }
   ],
   "source": [
    "Address = '75 Thorncliffe Park Dr, Toronto, Ontario'\n",
    "\n",
    "geolocation = Nominatim(user_agent=\"foursquare_agent\")\n",
    "location = geolocation.geocode(Address)\n",
    "latitude = location.latitude\n",
    "longitude = location.longitude\n",
    "\n",
    "query = \"Food\"\n",
    "limit = 10\n",
    "radius = 500\n",
    "print(latitude, longitude)"
   ]
  },
  {
   "cell_type": "code",
   "execution_count": 179,
   "metadata": {},
   "outputs": [
    {
     "name": "stdout",
     "output_type": "stream",
     "text": [
      "Bamiyan Kabob\n",
      "A&W Restaurant\n",
      "Pasha Authentic Turkish Cuisine\n",
      "Faley Restaurant\n",
      "Afghan Cuisine\n",
      "Swiss Chalet Rotisserie & Grill\n",
      "Anatolian's Turkish Halal Restaurant\n",
      "Popeye's Louisiana Kitchen\n",
      "Hero Certified Burgers\n",
      "Capital Sweet Smousa\n"
     ]
    }
   ],
   "source": [
    "#Call to the api using the stored variables\n",
    "url = \"https://api.foursquare.com/v3/places/search?query={}&ll={},{}&radius={}\".format(query,latitude,longitude, radius)\n",
    "\n",
    "headers = {\n",
    "    \"Accept\": \"application/json\",\n",
    "    \"Authorization\": \"fsq30W5Rz0P5HJTL4F1jGkXsg37CiGhYOejnEqQCPdKwfUI=\"\n",
    "}\n",
    "\n",
    "#Response from the call\n",
    "response = requests.request(\"GET\", url, headers=headers)\n",
    "\n",
    "#Convert the data to JSON\n",
    "json_data = json.loads(response.text)\n",
    "\n",
    "#Get the result and store it in list\n",
    "listt = json_data[\"results\"]\n",
    "\n",
    "#For every hash, find the key \"name\"\n",
    "for restaurant in listt: \n",
    "    print(restaurant[\"name\"])\n",
    "\n",
    "\n",
    "mymap = folium.Map(location=[43.70, -79.34], zoom_start=15)\n",
    "mymap.save('mymap.html')\n",
    "\n"
   ]
  },
  {
   "cell_type": "code",
   "execution_count": 180,
   "metadata": {},
   "outputs": [],
   "source": [
    "\n",
    "torontodata = pd.read_csv('Neighbourhoods_data.csv')\n",
    "#list(torontodata)\n",
    "#torontodata.head(1)\n",
    "\n",
    "#Display all the data from the coloumn LATITUDE\n",
    "#torontodata.loc[:, ['AREA_ID']]"
   ]
  },
  {
   "cell_type": "code",
   "execution_count": 181,
   "metadata": {},
   "outputs": [],
   "source": [
    "#Create a list to store postal codes and neighborhood names\n",
    "postalCode=[]\n",
    "neighborhood=[]\n",
    "\n",
    "#Website to extract the data from\n",
    "source = requests.get('https://en.wikipedia.org/wiki/List_of_postal_codes_of_Canada:_M').text\n",
    "\n",
    "#use to extract data \n",
    "soup = BeautifulSoup(source,'html.parser')\n",
    "\n",
    "table = soup.find().tbody\n",
    "\n",
    "#find all rows that contain the body tag\n",
    "row = table.findAll('b')\n",
    "\n",
    "#for each column in the the row, find the body text(postal code)\n",
    "for column in row:\n",
    "    #Add it to the postal code list\n",
    "    postalCode.append(column.get_text())\n",
    "    #print(column.get_text()) #Check what is printing out\n",
    "\n",
    "#find all rows that contain the body tag\n",
    "row = table.findAll('span')\n",
    "\n",
    "#for each column in the the row, find the span text(neighborhood)\n",
    "for column in row:\n",
    "    #Add it to the neighborhood list\n",
    "    neighborhood.append(column.get_text())\n",
    "    #print(column.get_text())\n",
    "\n",
    "#Add postal code and neighborhood to the dataframe\n",
    "df = pd.DataFrame({'Postal Code':postalCode,'Neighborhood':neighborhood})\n",
    "\n",
    "\n"
   ]
  },
  {
   "cell_type": "code",
   "execution_count": 187,
   "metadata": {},
   "outputs": [
    {
     "name": "stdout",
     "output_type": "stream",
     "text": [
      "    Postal Code       Neighborhood          District\n",
      "1           M5H           Adelaide  Downtown Toronto\n",
      "2           M1V    Agincourt North       Scarborough\n",
      "3           M1S          Agincourt       Scarborough\n",
      "4           M9V     Albion Gardens         Etobicoke\n",
      "5           M8W          Alderwood         Etobicoke\n",
      "..          ...                ...               ...\n",
      "201         M4B  Woodbine Gardens,         East York\n",
      "202         M4C   Woodbine Heights         East York\n",
      "203         M2P    York Mills West        North York\n",
      "204         M2L         York Mills        North York\n",
      "205         M5R          Yorkville   Central Toronto\n",
      "\n",
      "[205 rows x 3 columns]\n"
     ]
    }
   ],
   "source": [
    "#Create a list to store postal codes and neighborhood names\n",
    "postalCode=[]\n",
    "neighborhood=[]\n",
    "district = []\n",
    "\n",
    "#Website to extract the data from\n",
    "url = \"https://www.zipcodesonline.com/2020/06/postal-code-of-toronto-in-2020.html\"\n",
    "\n",
    "#Read the html tables into a list\n",
    "scrapper = pd.read_html(url,skiprows=2)\n",
    "\n",
    "#Store the date into the list \n",
    "neighborhood = scrapper[0][1]\n",
    "postalCode = scrapper[0][2]\n",
    "district =  scrapper[0][3]\n",
    "\n",
    "#Check if data is right\n",
    "#print(neighborhood)\n",
    "#print(postalCode)\n",
    "#print(district)\n",
    "\n",
    "#Create a data fram and store the scraped data\n",
    "finalData = pd.DataFrame({'Postal Code':postalCode,'Neighborhood':neighborhood, 'District':district})\n",
    "finalData.index += 1 #start the index from 1 and not zero\n",
    "print(finalData)\n"
   ]
  },
  {
   "cell_type": "code",
   "execution_count": 192,
   "metadata": {},
   "outputs": [
    {
     "name": "stdout",
     "output_type": "stream",
     "text": [
      "     Agincourt North Agincourt South-Malvern West       Alderwood  \\\n",
      "0                129                          128              20   \n",
      "1     No Designation               No Designation  No Designation   \n",
      "2             29,113                       23,757          12,054   \n",
      "3             30,279                       21,988          11,904   \n",
      "4             -3.90%                        8.00%           1.30%   \n",
      "...              ...                          ...             ...   \n",
      "2378           8,610                        8,775           3,130   \n",
      "2379           5,445                        5,610           2,200   \n",
      "2380           3,170                        3,145             925   \n",
      "2381             135                          220              70   \n",
      "2382           2,280                        2,170             245   \n",
      "\n",
      "               Annex Banbury-Don Mills  Bathurst Manor Bay Street Corridor  \\\n",
      "0                 95                42              34                  76   \n",
      "1     No Designation    No Designation  No Designation      No Designation   \n",
      "2             30,526            27,695          15,873              25,797   \n",
      "3             29,177            26,918          15,434              19,348   \n",
      "4              4.60%             2.90%           2.80%              33.30%   \n",
      "...              ...               ...             ...                 ...   \n",
      "2378          14,735             9,625           5,905              18,170   \n",
      "2379           8,340             6,480           3,680               6,390   \n",
      "2380           6,390             3,140           2,235              11,780   \n",
      "2381           1,310               220             170               1,970   \n",
      "2382           2,460             1,735           1,310               6,545   \n",
      "\n",
      "     Bayview Village Bayview Woods-Steeles Bedford Park-Nortown  ...  \\\n",
      "0                 52                    49                   39  ...   \n",
      "1     No Designation        No Designation       No Designation  ...   \n",
      "2             21,396                13,154               23,236  ...   \n",
      "3             17,671                13,530               23,185  ...   \n",
      "4             21.10%                -2.80%                0.20%  ...   \n",
      "...              ...                   ...                  ...  ...   \n",
      "2378          11,200                 4,525                7,690  ...   \n",
      "2379           6,175                 2,495                5,415  ...   \n",
      "2380           5,015                 2,030                2,265  ...   \n",
      "2381             510                   115                  235  ...   \n",
      "2382           3,030                 1,205                1,270  ...   \n",
      "\n",
      "     Willowridge-Martingrove-Richview  Woburn Woodbine Corridor  \\\n",
      "0                                   7     137                64   \n",
      "1                      No Designation     NIA    No Designation   \n",
      "2                              22,156  53,485            12,541   \n",
      "3                              21,343  53,350            11,703   \n",
      "4                               3.80%   0.30%             7.20%   \n",
      "...                               ...     ...               ...   \n",
      "2378                            7,020  19,235             3,920   \n",
      "2379                            4,740  11,975             2,920   \n",
      "2380                            2,270   7,260               985   \n",
      "2381                              150     335               250   \n",
      "2382                            1,175   5,540               395   \n",
      "\n",
      "     Woodbine-Lumsden        Wychwood  Yonge-Eglinton  Yonge-St.Clair  \\\n",
      "0                  60              94             100              97   \n",
      "1      No Designation  No Designation  No Designation  No Designation   \n",
      "2               7,865          14,349          11,817          12,528   \n",
      "3               7,826          13,986          10,578          11,652   \n",
      "4               0.50%           2.60%          11.70%           7.50%   \n",
      "...               ...             ...             ...             ...   \n",
      "2378            2,710           4,700           5,450           6,195   \n",
      "2379            2,100           3,355           3,020           3,895   \n",
      "2380              620           1,350           2,425           2,310   \n",
      "2381               85             210             290             325   \n",
      "2382              220             575           1,160             955   \n",
      "\n",
      "     York University Heights      Yorkdale-Glen Park   _id  \n",
      "0                         27                      31     1  \n",
      "1                        NIA  Emerging Neighbourhood     2  \n",
      "2                     27,593                  14,804     3  \n",
      "3                     27,713                  14,687     4  \n",
      "4                     -0.40%                   0.80%     5  \n",
      "...                      ...                     ...   ...  \n",
      "2378                  11,400                   4,290  2379  \n",
      "2379                   6,435                   2,940  2380  \n",
      "2380                   4,965                   1,345  2381  \n",
      "2381                     195                     135  2382  \n",
      "2382                   3,285                     775  2383  \n",
      "\n",
      "[2383 rows x 146 columns]\n"
     ]
    }
   ],
   "source": [
    "# Get the dataset metadata by passing package_id to the package_search endpoint\n",
    "# For example, to retrieve the metadata for this dataset:\n",
    " \n",
    "excelData = pd.read_csv('neighbourhood-profiles-2016.csv')\n",
    "df = pd.DataFrame(excelData, )\n",
    "print(excelData)"
   ]
  }
 ],
 "metadata": {
  "interpreter": {
   "hash": "fbee86f1c0b335d7ecb76c273dafd296a62ca9132e8ff9850a4a2c2d07eb12a6"
  },
  "kernelspec": {
   "display_name": "Python 3.9.7 ('base')",
   "language": "python",
   "name": "python3"
  },
  "language_info": {
   "codemirror_mode": {
    "name": "ipython",
    "version": 3
   },
   "file_extension": ".py",
   "mimetype": "text/x-python",
   "name": "python",
   "nbconvert_exporter": "python",
   "pygments_lexer": "ipython3",
   "version": "3.9.7"
  },
  "orig_nbformat": 4
 },
 "nbformat": 4,
 "nbformat_minor": 2
}
