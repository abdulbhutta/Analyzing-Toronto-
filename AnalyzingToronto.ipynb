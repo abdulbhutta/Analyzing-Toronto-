{
 "cells": [
  {
   "cell_type": "code",
   "execution_count": 1,
   "metadata": {},
   "outputs": [],
   "source": [
    "import json\n",
    "import requests\n",
    "import pandas as pd # module to convert an address into latitude and longitude values\n",
    "import folium\n",
    "from geopy.geocoders import Nominatim #Module for converting the address into latitude and longitude value\n",
    "from IPython.display import display\n"
   ]
  },
  {
   "cell_type": "code",
   "execution_count": 2,
   "metadata": {},
   "outputs": [
    {
     "name": "stdout",
     "output_type": "stream",
     "text": [
      "43.7049593 -79.3419739\n"
     ]
    }
   ],
   "source": [
    "address = '75 Thorncliffe Park Dr, Toronto, Ontario'\n",
    "\n",
    "geolocation = Nominatim(user_agent=\"foursquare_agent\")\n",
    "location = geolocation.geocode(address)\n",
    "latitude = location.latitude\n",
    "longitude = location.longitude\n",
    "\n",
    "query = \"Food\"\n",
    "limit = 10\n",
    "radius = 500\n",
    "print(latitude, longitude)"
   ]
  },
  {
   "cell_type": "code",
   "execution_count": 3,
   "metadata": {},
   "outputs": [
    {
     "name": "stdout",
     "output_type": "stream",
     "text": [
      "Bamiyan Kabob\n",
      "A&W Restaurant\n",
      "Pasha Authentic Turkish Cuisine\n",
      "Faley Restaurant\n",
      "Afghan Cuisine\n",
      "Swiss Chalet Rotisserie & Grill\n",
      "Anatolian's Turkish Halal Restaurant\n",
      "Popeye's Louisiana Kitchen\n",
      "Hero Certified Burgers\n",
      "Capital Sweet Smousa\n"
     ]
    }
   ],
   "source": [
    "#Call to the api using the stored variables\n",
    "url = \"https://api.foursquare.com/v3/places/search?query={}&ll={},{}&radius={}\".format(query,latitude,longitude, radius)\n",
    "\n",
    "headers = {\n",
    "    \"Accept\": \"application/json\",\n",
    "    \"Authorization\": \"fsq30W5Rz0P5HJTL4F1jGkXsg37CiGhYOejnEqQCPdKwfUI=\"\n",
    "}\n",
    "\n",
    "#Response from the call\n",
    "response = requests.request(\"GET\", url, headers=headers)\n",
    "\n",
    "#Convert the data to JSON\n",
    "json_data = json.loads(response.text)\n",
    "\n",
    "#Get the result and store it in list\n",
    "list = json_data[\"results\"]\n",
    "\n",
    "#For every hash, find the key \"name\"\n",
    "for restaurant in list: \n",
    "    print(restaurant[\"name\"])\n",
    "\n",
    "\n",
    "mymap = folium.Map(location=[43.70, -79.34], zoom_start=15)\n",
    "mymap.save('mymap.html')\n",
    "\n"
   ]
  }
 ],
 "metadata": {
  "interpreter": {
   "hash": "fbee86f1c0b335d7ecb76c273dafd296a62ca9132e8ff9850a4a2c2d07eb12a6"
  },
  "kernelspec": {
   "display_name": "Python 3.9.7 ('base')",
   "language": "python",
   "name": "python3"
  },
  "language_info": {
   "codemirror_mode": {
    "name": "ipython",
    "version": 3
   },
   "file_extension": ".py",
   "mimetype": "text/x-python",
   "name": "python",
   "nbconvert_exporter": "python",
   "pygments_lexer": "ipython3",
   "version": "3.9.7"
  },
  "orig_nbformat": 4
 },
 "nbformat": 4,
 "nbformat_minor": 2
}
